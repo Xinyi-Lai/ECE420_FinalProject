{
 "cells": [
  {
   "cell_type": "code",
   "execution_count": 1,
   "metadata": {},
   "outputs": [],
   "source": [
    "import cv2\n",
    "import numpy as np\n",
    "from scipy import stats\n",
    "from matplotlib import pyplot as plt\n",
    "import pickle as pkl\n",
    "\n",
    "#import pytesseract"
   ]
  },
  {
   "cell_type": "markdown",
   "metadata": {},
   "source": [
    "#### MLBP (Mean Local Binary Pattern) encoding"
   ]
  },
  {
   "cell_type": "code",
   "execution_count": 2,
   "metadata": {},
   "outputs": [],
   "source": [
    "# encode the grayscale/binary img\n",
    "# bw = True if the input img is a binary image (when constructing the database (black-stroke-white-bg) )\n",
    "# inv = True if we want to encode the inversed image (convert a bright-stroke-dark-bg to dark-stroke-bright-bg)\n",
    "def encodeImg(img, bw, inv):\n",
    "\n",
    "    #_, img = cv2.threshold(img, 128, 255, cv2.THRESH_BINARY | cv2.THRESH_OTSU)\n",
    "    \n",
    "    # assume the background color is the mode of the four edges\n",
    "    # need 1 pixel as margin\n",
    "    bg_color = stats.mode( list(img[0,:]) + list(img[-1,:]) + list(img[:,0]) + list(img[:,-1]) )[0][0]\n",
    "    size = 32\n",
    "\n",
    "    # if the image is a binary image (when constructing the database)\n",
    "    # crop to the minimal bounding rect \n",
    "    if bw == True:\n",
    "        blkidx = np.where(img==0)\n",
    "        if (len(blkidx[0]) != 0):\n",
    "            img = img[min(blkidx[0]):max(blkidx[0])+1, min(blkidx[1]):max(blkidx[1])+1]\n",
    "\n",
    "    # resize to (size,size), align in the center, padded with the \"background color\"\n",
    "    resize_img = np.zeros((size,size), dtype='uint8') + bg_color\n",
    "    h, w = img.shape\n",
    "    # if it is tall and thin\n",
    "    if h > w:\n",
    "        scale = size / h\n",
    "        img = cv2.resize(img, (int(w*scale+0.5), int(h*scale+0.5)) )\n",
    "        for i in range(int(w*scale)):\n",
    "            resize_img[:, i+int((size-w*scale)/2) ] = img[:, i]\n",
    "    # if it is short and fat\n",
    "    else:\n",
    "        scale = size / w\n",
    "        img = cv2.resize(img, (int(w*scale+0.5), int(h*scale+0.5)) )\n",
    "        for i in range(int(h*scale)):\n",
    "            resize_img[i+int((size-h*scale)/2), : ] = img[i, :]\n",
    "    \n",
    "    img = resize_img\n",
    "#     plt.figure()\n",
    "#     plt.imshow(img,\"gray\")\n",
    "\n",
    "\n",
    "    # Mean Local Binary Pattern encoding\n",
    "    img_mlbp = \"\"\n",
    "\n",
    "    for i in range(1, size-1):\n",
    "        for j in range(1, size-1):\n",
    "            mlbp = \"\"\n",
    "            avg = np.mean(img[i-1:i+2, j-1:j+2])\n",
    "            neighbours = [ (i-1,j-1), (i-1,j), (i-1,j+1), (i,j+1), (i+1,j+1), (i+1,j), (i+1,j-1), (i,j-1) ]\n",
    "            for idx in neighbours:\n",
    "                \n",
    "                if inv == False:\n",
    "                    if img[idx] > avg:    mlbp += \"1\"\n",
    "                    else:                 mlbp += \"0\"\n",
    "                else: # inv == True:\n",
    "                    if img[idx] < avg:    mlbp += \"1\"\n",
    "                    else:                 mlbp += \"0\"\n",
    "            \n",
    "            img_mlbp += mlbp\n",
    "            \n",
    "    return img_mlbp\n",
    "\n",
    "\n",
    "# return the similarity score of (a_mlbp, b_mlbp), [0,1], 1 -> same\n",
    "def compareMlbp(a_mlbp, b_mlbp):\n",
    "    \n",
    "    if a_mlbp == None or b_mlbp == None:\n",
    "#         print('None')\n",
    "        return float('Inf')\n",
    "    if len(a_mlbp) != len(b_mlbp):\n",
    "#         print(\"len does not match\")\n",
    "        return float('Inf')\n",
    "    \n",
    "    dist = 0\n",
    "    for i in range(len(a_mlbp)):\n",
    "#         dist += int(a_mlbp[i]) - int(b_mlbp[i])\n",
    "        if a_mlbp[i] != b_mlbp[i]:\n",
    "            dist+=1\n",
    "    return 1 - dist/len(a_mlbp)"
   ]
  },
  {
   "cell_type": "markdown",
   "metadata": {},
   "source": [
    "#### Step0: Prepare the dataset"
   ]
  },
  {
   "cell_type": "code",
   "execution_count": 3,
   "metadata": {},
   "outputs": [],
   "source": [
    "# ### prepare the mlbp dataset\n",
    "\n",
    "# import string\n",
    "# letters = list(string.ascii_uppercase) + list(string.ascii_lowercase)\n",
    "# mlbp_dict = {}\n",
    "\n",
    "# font = 'lettersTimesNewRoman/'\n",
    "# #font = 'lettersHelveticaNeue/'\n",
    "\n",
    "# for i in range(26):   \n",
    "#     img = cv2.imread(font + letters[i] + '.png')\n",
    "#     gray = cv2.cvtColor(img, cv2.COLOR_BGR2GRAY)\n",
    "#     mlbp_dict[string.ascii_uppercase[i]] = encodeImg(gray, True, False)\n",
    "# for i in range(26):    \n",
    "#     img = cv2.imread(font + letters[i+26]*2 + '.png')\n",
    "#     gray = cv2.cvtColor(img, cv2.COLOR_BGR2GRAY)\n",
    "#     mlbp_dict[string.ascii_lowercase[i]] = encodeImg(gray, True, False)\n",
    "    \n",
    "# filepath = 'mlbp_dict.pkl'\n",
    "# f = open(filepath,'wb')\n",
    "# pkl.dump(mlbp_dict,f)\n",
    "# f.close()\n",
    "# print ('\"mlbp_dict.pkl\" has been written')"
   ]
  },
  {
   "cell_type": "code",
   "execution_count": 4,
   "metadata": {},
   "outputs": [
    {
     "name": "stdout",
     "output_type": "stream",
     "text": [
      "loaded from \"mlbp_dict.pkl\"\n"
     ]
    }
   ],
   "source": [
    "filepath = 'mlbp_dict.pkl'\n",
    "f = open(filepath, 'rb')  # The 'rb' is for openning file to be read in binary mode\n",
    "mlbp_dict = pkl.load(f)\n",
    "f.close()\n",
    "print ('loaded from \"mlbp_dict.pkl\"')"
   ]
  },
  {
   "cell_type": "markdown",
   "metadata": {},
   "source": [
    "#### Load the image and Determine the parameters"
   ]
  },
  {
   "cell_type": "code",
   "execution_count": 5,
   "metadata": {},
   "outputs": [],
   "source": [
    "img = cv2.imread('text1.jpg') # 1,2,4,(5,6,7)\n",
    "# cv2.imshow('orig', img)\n",
    "# cv2.waitKey(0)\n",
    "\n",
    "HEIGHT, WIDTH, _ = img.shape\n",
    "\n",
    "# region edge\n",
    "EDGE_MIN = min(HEIGHT, WIDTH) / 60\n",
    "EDGE_MAX = max(HEIGHT, WIDTH) * 0.8\n",
    "\n",
    "# region area\n",
    "AREA_MIN = HEIGHT*WIDTH / 2000\n",
    "AREA_MAX = HEIGHT*WIDTH * 0.2\n",
    "\n",
    "# aspect ratio\n",
    "AR_MIN = 0.3\n",
    "AR_MAX = 1.5"
   ]
  },
  {
   "cell_type": "markdown",
   "metadata": {},
   "source": [
    "#### Step1-2 MSER"
   ]
  },
  {
   "cell_type": "code",
   "execution_count": 6,
   "metadata": {},
   "outputs": [
    {
     "name": "stdout",
     "output_type": "stream",
     "text": [
      "Number of MSER regions: 824\n"
     ]
    }
   ],
   "source": [
    "gray = cv2.cvtColor(img, cv2.COLOR_BGR2GRAY)    #Convert to gray scale\n",
    "_, bw = cv2.threshold(gray, 128, 255, cv2.THRESH_BINARY | cv2.THRESH_OTSU)\n",
    "\n",
    "\n",
    "#Create MSER object\n",
    "mser = cv2.MSER_create()\n",
    "#detect regions in gray scale image\n",
    "regions, _ = mser.detectRegions(gray)\n",
    "print(\"Number of MSER regions:\", len(regions))\n",
    "\n",
    "vis1 = img.copy()    # output\n",
    "for region in regions:\n",
    "    x, y, w, h = cv2.boundingRect(region)\n",
    "    cv2.rectangle(vis1, (x, y), (x+w-1, y+h-1), (0, 255, 0), 2)\n"
   ]
  },
  {
   "cell_type": "markdown",
   "metadata": {},
   "source": [
    "#### Step 2.5 cleaning MSER"
   ]
  },
  {
   "cell_type": "code",
   "execution_count": 7,
   "metadata": {},
   "outputs": [],
   "source": [
    "# return True if rect1 covers rect2\n",
    "def cover(rect1, rect2):\n",
    "    x1, y1, w1, h1 = rect1\n",
    "    x2, y2, w2, h2 = rect2\n",
    "    if x1 <= x2 and x1+w1 >= x2+w2 and y1 <= y2 and y1+h1 >= y2+h2:\n",
    "        return True\n",
    "    else:\n",
    "        return False\n",
    "\n",
    "# return True if rect is a maximal rect in rects\n",
    "def isMaximal(rect, rects):\n",
    "    for other in rects:\n",
    "        if other != rect and cover(other, rect):\n",
    "            return False\n",
    "    return True"
   ]
  },
  {
   "cell_type": "code",
   "execution_count": 8,
   "metadata": {},
   "outputs": [
    {
     "name": "stdout",
     "output_type": "stream",
     "text": [
      "Number of text candidates: 57\n"
     ]
    }
   ],
   "source": [
    "vis2 = img.copy()    # output\n",
    "\n",
    "# eliminate the whole black/white\n",
    "###############STD_MIN = 20\n",
    "\n",
    "rects = []\n",
    "for region in regions:\n",
    "    x, y, w, h = cv2.boundingRect(region)\n",
    "\n",
    "    # aspect ratio and size\n",
    "    if min(w,h) < EDGE_MAX and max(w,h) > EDGE_MIN and w*h < AREA_MAX and w*h > AREA_MIN and w/h < AR_MAX and w/h > AR_MIN:\n",
    "    #if min(w,h) < EDGE_MAX and min(w,h) > EDGE_MIN and w*h < AREA_MAX and w*h > AREA_MIN and w/h < AR_MAX and w/h > AR_MIN:\n",
    "        #print(np.std(bw[x:x+w,y:y+h]))\n",
    "        #if np.std(bw[x:x+w,y:y+h]) > STD_MIN or np.std(bw[x:x+w,y:y+h])==np.nan:\n",
    "            if (x, y, w, h) not in rects:\n",
    "                rects.append((x, y, w, h))\n",
    "\n",
    "real_rects = []\n",
    "for rect in rects:\n",
    "    if isMaximal(rect, rects):\n",
    "        real_rects.append(rect)\n",
    "        x, y, w, h = rect\n",
    "        cv2.rectangle(vis2, (x, y), (x+w+1, y+h+1), (0, 255, 0), 2)\n",
    "        \n",
    "rects = real_rects\n",
    "print(\"Number of text candidates:\", len(rects))"
   ]
  },
  {
   "cell_type": "code",
   "execution_count": 9,
   "metadata": {},
   "outputs": [
    {
     "name": "stdout",
     "output_type": "stream",
     "text": [
      "Number of MSER regions: 824\n",
      "Number of text candidates: 57\n"
     ]
    },
    {
     "data": {
      "image/png": "[encoded data removed]",
      "text/plain": [
       "<Figure size 1080x648 with 3 Axes>"
      ]
     },
     "metadata": {
      "needs_background": "light"
     },
     "output_type": "display_data"
    }
   ],
   "source": [
    "plt.figure(figsize=(15,9))\n",
    "plt.subplot(131)\n",
    "plt.title('orig image')\n",
    "plt.imshow(img[:,:,::-1])\n",
    "\n",
    "plt.subplot(132)\n",
    "plt.title(\"MSER regions\")\n",
    "plt.imshow(vis1[:,:,::-1])\n",
    "\n",
    "plt.subplot(133)\n",
    "plt.title(\"primary cleaning\")\n",
    "plt.imshow(vis2[:,:,::-1])\n",
    "\n",
    "print(\"Number of MSER regions:\", len(regions))\n",
    "print(\"Number of text candidates:\", len(rects))"
   ]
  },
  {
   "cell_type": "markdown",
   "metadata": {},
   "source": [
    "#### Step 3: double treshold classifier"
   ]
  },
  {
   "cell_type": "code",
   "execution_count": 10,
   "metadata": {},
   "outputs": [],
   "source": [
    "# roi - gray image\n",
    "# return the min dist value and the nearest letter\n",
    "def cannyTextClassifier(roi, mlbp_dict):\n",
    "    \n",
    "    #_, roi = cv2.threshold(gray, 128, 255, cv2.THRESH_BINARY | cv2.THRESH_OTSU)\n",
    "    roi_mlbp = encodeImg(roi, True, False)\n",
    "    inv_roi_mlbp = encodeImg(roi, True, True)\n",
    "    \n",
    "    maxsim = -float('Inf')\n",
    "    key = ''\n",
    "    \n",
    "    #exempt_list = ['l', 'J', 'I', 'j', 'i']\n",
    "    exempt_list = []\n",
    "    \n",
    "    for k,v in mlbp_dict.items():\n",
    "        sim = max( compareMlbp(roi_mlbp, v), compareMlbp(inv_roi_mlbp, v) )\n",
    "        if sim > maxsim and (k not in exempt_list):\n",
    "            maxsim = sim\n",
    "            key = k\n",
    "    \n",
    "    return maxsim, key"
   ]
  },
  {
   "cell_type": "code",
   "execution_count": 11,
   "metadata": {},
   "outputs": [
    {
     "name": "stdout",
     "output_type": "stream",
     "text": [
      "Number of strong text: 18\n",
      "Number of weak text: 31\n"
     ]
    }
   ],
   "source": [
    "th1 = 0.75\n",
    "th2 = 0.45\n",
    "\n",
    "tth1 = 0.88\n",
    "tth2 = 0.60\n",
    "\n",
    "lth1 = 0.85\n",
    "lth2 = 0.60\n",
    "\n",
    "strong_text = []\n",
    "weak_text = []\n",
    "non_text = []\n",
    "\n",
    "for rect in rects:\n",
    "    x, y, w, h = rect\n",
    "    roi = bw[y:y+h, x:x+w]\n",
    "    sim, letter = cannyTextClassifier(roi, mlbp_dict)\n",
    "    \n",
    "\n",
    "    # need to prone some confusing background\n",
    "\n",
    "    # impossible to get \"i\" and \"j\" because they has two parts\n",
    "    if letter != 'i' and letter != 'j':\n",
    "        #print(letter)\n",
    "        \n",
    "        # \"t\" and \"l\" has the most false positive\n",
    "        if letter == \"t\":\n",
    "            if sim > tth1:\n",
    "                strong_text.append(rect)\n",
    "            elif sim > tth2:\n",
    "                weak_text.append(rect)\n",
    "            else:\n",
    "                non_text.append(rect)\n",
    "        \n",
    "        elif letter == \"l\":\n",
    "            if sim > tth1:\n",
    "                strong_text.append(rect)\n",
    "            elif sim > tth2:\n",
    "                weak_text.append(rect)\n",
    "            else:\n",
    "                non_text.append(rect)\n",
    "        \n",
    "        \n",
    "        elif sim > th1:\n",
    "            strong_text.append(rect)\n",
    "        elif sim > th2:\n",
    "            weak_text.append(rect)\n",
    "        else:\n",
    "            non_text.append(rect)\n",
    "        \n",
    "\n",
    "vis3 = img.copy()\n",
    "for text in strong_text:\n",
    "    x, y, w, h = text\n",
    "    cv2.rectangle(vis3, (x, y), (x+w-1, y+h-1), (0, 255, 0), 2)\n",
    "\n",
    "for text in weak_text:\n",
    "    x, y, w, h = text\n",
    "    cv2.rectangle(vis3, (x, y), (x+w-1, y+h-1), (0, 0, 255), 2)\n",
    "    \n",
    "print(\"Number of strong text:\", len(strong_text))\n",
    "print(\"Number of weak text:\", len(weak_text))\n",
    "\n",
    "strong_copy = strong_text.copy() # DEBUG\n",
    "weak_copy = weak_text.copy() # DEBUG"
   ]
  },
  {
   "cell_type": "code",
   "execution_count": 12,
   "metadata": {},
   "outputs": [],
   "source": [
    "# vistmp = img.copy()\n",
    "# x, y, w, h = (247, 280, 18, 18)\n",
    "# cv2.rectangle(vistmp, (x, y), (x+w-1, y+h-1), (0, 255, 0), 2)\n",
    "    \n",
    "# plt.figure()\n",
    "# plt.title(\"tmp\")\n",
    "# plt.imshow(vistmp[:,:,::-1])\n",
    "\n",
    "# roi = bw[y:y+h+1, x:x+w+1]\n",
    "# plt.figure()\n",
    "# plt.imshow(roi, \"gray\")\n",
    "# print(cannyTextClassifier(roi, mlbp_dict))"
   ]
  },
  {
   "cell_type": "code",
   "execution_count": 13,
   "metadata": {
    "scrolled": true
   },
   "outputs": [
    {
     "name": "stdout",
     "output_type": "stream",
     "text": [
      "Number of strong text: 18\n",
      "Number of weak text: 31\n"
     ]
    },
    {
     "data": {
      "image/png": "[encoded data removed]",
      "text/plain": [
       "<Figure size 1080x648 with 2 Axes>"
      ]
     },
     "metadata": {
      "needs_background": "light"
     },
     "output_type": "display_data"
    }
   ],
   "source": [
    "plt.figure(figsize=(15,9))\n",
    "\n",
    "plt.subplot(121)\n",
    "plt.title(\"primary cleaning\")\n",
    "plt.imshow(vis2[:,:,::-1])\n",
    "\n",
    "plt.subplot(122)\n",
    "plt.title(\"classified\")\n",
    "plt.imshow(vis3[:,:,::-1])\n",
    "\n",
    "print(\"Number of strong text:\", len(strong_text))\n",
    "print(\"Number of weak text:\", len(weak_text))"
   ]
  },
  {
   "cell_type": "code",
   "execution_count": 14,
   "metadata": {},
   "outputs": [],
   "source": [
    "# # DEBUG: find the index of rect to see what the hell is going on...\n",
    "# # @param: xlim - (lb, ub); ylim - (lb, ub); rects - list of rect\n",
    "# # @return: a list of index in rect\n",
    "# def find_rect_idx(xlim, ylim, rects):\n",
    "#     ret = []\n",
    "#     for idx in range(len(rects)):\n",
    "#         i = rects[idx]\n",
    "#         if i[0] >= xlim[0] and i[0] <= xlim[1] and i[1] >= ylim[0] and i[1] <= ylim[1]:\n",
    "#             ret.append(idx)\n",
    "#     return ret\n",
    "\n",
    "# all_text = strong_copy + weak_copy\n",
    "# find_rect_idx((50, 100), (50,100), all_text)"
   ]
  },
  {
   "cell_type": "code",
   "execution_count": 15,
   "metadata": {},
   "outputs": [],
   "source": [
    "# x, y, w, h = all_text[1]\n",
    "# roi = bw[y:y+h, x:x+w]\n",
    "# print(cannyTextClassifier(roi, mlbp_dict))\n",
    "\n",
    "# vistmp = img.copy()\n",
    "# for text in [all_text[1]]:\n",
    "#     x, y, w, h = text\n",
    "#     cv2.rectangle(vistmp, (x, y), (x+w-1, y+h-1), (0, 255, 0), 2)\n",
    "    \n",
    "# plt.figure()\n",
    "# plt.title(\"tmp\")\n",
    "# plt.imshow(vistmp[:,:,::-1])"
   ]
  },
  {
   "cell_type": "markdown",
   "metadata": {},
   "source": [
    "#### Step 4: Hysteresis tracking"
   ]
  },
  {
   "cell_type": "code",
   "execution_count": 16,
   "metadata": {},
   "outputs": [],
   "source": [
    "ALIGN_RATIO = 0.2\n",
    "H_SPACE_RATIO = 0.85\n",
    "V_SPACE_RATIO = 0.05\n",
    "\n",
    "def close(a, b):\n",
    "    (xa, ya, wa, ha) = a\n",
    "    (xb, yb, wb, hb) = b\n",
    "    \n",
    "    # horizontal grouping\n",
    "    # a and b should be in the same line\n",
    "    if yb <= ya + ha - hb*ALIGN_RATIO and yb + hb >= ya + hb*ALIGN_RATIO:\n",
    "        # allow a space\n",
    "        if ( (xb <= xa + wa + wb*H_SPACE_RATIO and xb >= xa + wa - wb*H_SPACE_RATIO ) or \n",
    "             (xb + wb >= xa - wb*H_SPACE_RATIO and xb + wb <= xa + wb*H_SPACE_RATIO) ):\n",
    "            return True\n",
    "        \n",
    "    # vertical grouping\n",
    "    # a and b should be in the same line\n",
    "    if xb <= xa + wa + wb*ALIGN_RATIO and xb + wb >= xa - wb*ALIGN_RATIO:\n",
    "        # allow a space\n",
    "        if ( (yb <= ya + ha + hb*V_SPACE_RATIO and yb >= ya + ha - hb*V_SPACE_RATIO ) or \n",
    "             (yb + hb >= ya - hb*V_SPACE_RATIO and yb + hb <= ya + hb*V_SPACE_RATIO) ):\n",
    "            return True\n",
    "    \n",
    "    return False"
   ]
  },
  {
   "cell_type": "code",
   "execution_count": 17,
   "metadata": {},
   "outputs": [
    {
     "name": "stdout",
     "output_type": "stream",
     "text": [
      "Number of texts: 43\n"
     ]
    }
   ],
   "source": [
    "strong_text = strong_copy.copy() # DEBUG\n",
    "\n",
    "texts = []\n",
    "texts.extend(strong_text)\n",
    "\n",
    "while len(strong_text) != 0 :\n",
    "    \n",
    "    atext = strong_text[0]\n",
    "    \n",
    "    for weak in weak_text:\n",
    "        if weak not in texts and close(atext, weak):\n",
    "            texts.append(weak)\n",
    "            strong_text.append(weak)\n",
    "    del strong_text[0]\n",
    "\n",
    "\n",
    "vis4 = img.copy()\n",
    "for text in texts:\n",
    "    x, y, w, h = text\n",
    "    cv2.rectangle(vis4, (x, y), (x+w-1, y+h-1), (0, 255, 0), 2)\n",
    "    \n",
    "print(\"Number of texts:\", len(texts))"
   ]
  },
  {
   "cell_type": "code",
   "execution_count": 18,
   "metadata": {},
   "outputs": [
    {
     "name": "stdout",
     "output_type": "stream",
     "text": [
      "Number of strong text: 11\n",
      "Number of weak text: 13\n",
      "Number of text after hysteresis tracking: 43\n"
     ]
    },
    {
     "data": {
      "image/png": "[encoded data removed]",
      "text/plain": [
       "<Figure size 1080x648 with 2 Axes>"
      ]
     },
     "metadata": {
      "needs_background": "light"
     },
     "output_type": "display_data"
    }
   ],
   "source": [
    "plt.figure(figsize=(15,9))\n",
    "plt.subplot(121)\n",
    "plt.title(\"classified\")\n",
    "plt.imshow(vis3[:,:,::-1])\n",
    "\n",
    "plt.subplot(122)\n",
    "plt.title(\"after hysteresis tracking\")\n",
    "plt.imshow(vis4[:,:,::-1])\n",
    "\n",
    "print(\"Number of strong text: 11\") # 11\n",
    "print(\"Number of weak text: 13\") # 13\n",
    "print(\"Number of text after hysteresis tracking:\", len(texts))"
   ]
  },
  {
   "cell_type": "markdown",
   "metadata": {},
   "source": [
    "#### Step5: grouping"
   ]
  },
  {
   "cell_type": "code",
   "execution_count": 19,
   "metadata": {},
   "outputs": [],
   "source": [
    "# return index in [text]\n",
    "def find_merge_idx(a, text):\n",
    "    for idx in range(len(text)):\n",
    "        if text[idx] != a and close(a, text[idx]):\n",
    "            return idx\n",
    "    return -1\n",
    "\n",
    "\n",
    "def merge_rect(a, b):\n",
    "    (xa, ya, wa, ha) = a\n",
    "    (xb, yb, wb, hb) = b\n",
    "    x = min(xa, xb)\n",
    "    y = min(ya, yb)\n",
    "    w = max(xa+wa, xb+wb) - x\n",
    "    h = max(ya+ha, yb+hb) - y\n",
    "    return (x, y, w, h)"
   ]
  },
  {
   "cell_type": "code",
   "execution_count": 20,
   "metadata": {},
   "outputs": [],
   "source": [
    "texts = sorted(texts, key=lambda x: (x[1],x[0]), reverse=False)\n",
    "count = 0\n",
    "while True:\n",
    "    count+=1\n",
    "\n",
    "    # do all possible merge for text[0]\n",
    "    while True:\n",
    "        merge_idx = find_merge_idx(texts[0], texts)\n",
    "        if merge_idx == -1:\n",
    "            break\n",
    "        \n",
    "        # update the list\n",
    "        merge = merge_rect(texts[0], texts[merge_idx])\n",
    "        texts[0] = merge\n",
    "        del texts[merge_idx]\n",
    "    \n",
    "    # move the maximal text to the tail\n",
    "    texts.append(texts[0])\n",
    "    del texts[0]\n",
    "\n",
    "    # check stopping condition\n",
    "    stop = 1\n",
    "    for t in texts:\n",
    "        if find_merge_idx(t, texts) != -1:\n",
    "            stop = 0\n",
    "            break\n",
    "    \n",
    "    # nothing more can be done\n",
    "    if stop == 1:\n",
    "        break\n",
    "\n",
    "    \n",
    "vis5 = img.copy()\n",
    "for i in texts:\n",
    "    x, y, w, h = i\n",
    "    cv2.rectangle(vis5, (x, y), (x+w-1, y+h-1), (0, 255, 0), 2)"
   ]
  },
  {
   "cell_type": "code",
   "execution_count": 21,
   "metadata": {},
   "outputs": [
    {
     "name": "stdout",
     "output_type": "stream",
     "text": [
      "Number of strong text: 11\n",
      "Number of weak text: 13\n",
      "Number of text after hysteresis tracking: 17\n"
     ]
    },
    {
     "data": {
      "image/png": "[encoded data removed]",
      "text/plain": [
       "<Figure size 1080x648 with 3 Axes>"
      ]
     },
     "metadata": {
      "needs_background": "light"
     },
     "output_type": "display_data"
    }
   ],
   "source": [
    "plt.figure(figsize=(15,9))\n",
    "plt.subplot(131)\n",
    "plt.title(\"classified\")\n",
    "plt.imshow(vis3[:,:,::-1])\n",
    "\n",
    "plt.subplot(132)\n",
    "plt.title(\"after hysteresis tracking\")\n",
    "plt.imshow(vis4[:,:,::-1])\n",
    "\n",
    "plt.subplot(133)\n",
    "plt.title(\"grouped\")\n",
    "plt.imshow(vis5[:,:,::-1])\n",
    "\n",
    "print(\"Number of strong text: 11\")\n",
    "print(\"Number of weak text: 13\")\n",
    "print(\"Number of text after hysteresis tracking: 17\")"
   ]
  },
  {
   "cell_type": "code",
   "execution_count": 22,
   "metadata": {},
   "outputs": [
    {
     "data": {
      "text/plain": [
       "<matplotlib.image.AxesImage at 0x12e31ef28>"
      ]
     },
     "execution_count": 22,
     "metadata": {},
     "output_type": "execute_result"
    },
    {
     "data": {
      "image/png": "[encoded data removed]",
      "text/plain": [
       "<Figure size 720x432 with 1 Axes>"
      ]
     },
     "metadata": {
      "needs_background": "light"
     },
     "output_type": "display_data"
    }
   ],
   "source": [
    "plt.figure(figsize=(10,6))\n",
    "plt.title(\"output\")\n",
    "plt.imshow(vis5[:,:,::-1])"
   ]
  },
  {
   "cell_type": "code",
   "execution_count": null,
   "metadata": {},
   "outputs": [],
   "source": []
  },
  {
   "cell_type": "code",
   "execution_count": null,
   "metadata": {},
   "outputs": [],
   "source": []
  },
  {
   "cell_type": "code",
   "execution_count": 23,
   "metadata": {},
   "outputs": [],
   "source": [
    "# weak_reduced = []\n",
    "\n",
    "# #print(strong_text[11])\n",
    "# #print(img[strong_text[11][0]:strong_text[11][0]+strong_text[11][2],strong_text[11][1]:strong_text[11][1]+strong_text[1][3],::-1])\n",
    "# #for weak in weak_text:\n",
    "# #    if weak[0]+weak[2] > WIDTH or weak[1]+weak[3] > HEIGHT:\n",
    "# #        weak_text.remove(weak)\n",
    "# #        \n",
    "# #for strong in strong_text:\n",
    "# #    if strong[0]+strong[2] > WIDTH or strong[1]+strong[3] > HEIGHT:\n",
    "# #        strong_text.remove(strong)\n",
    "# #            \n",
    "# #print(len(weak_text))\n",
    "# #print(len(strong_text))\n",
    "# for weak in weak_text:\n",
    "#     x, y, w, h = weak\n",
    "#     weak_hyt = np.mean(bw[y:y+h,x:x+w]) \n",
    "    \n",
    "#     #print(\"weak\")\n",
    "#     #print(weak_hyt)\n",
    "#     #print(\"\\n\")\n",
    "#     for strong in strong_text:\n",
    "        \n",
    "#         x, y, w, h = strong\n",
    "#         strong_hyt = np.mean(bw[y:y+h,x:x+w]) \n",
    "        \n",
    "#         #print(\"strong\")\n",
    "#         #print(strong_hyt)\n",
    "#         #print(\"\\n\")\n",
    "#         #print(np.abs(weak_hyt-strong_hyt)*100 //((strong_hyt+weak_hyt)//2))\n",
    "#         if (np.abs(weak_hyt-strong_hyt)*100 //((strong_hyt+weak_hyt)//2) < 25\n",
    "        \n",
    "#             #make sure it is close to strong image\n",
    "#             and\n",
    "#             (np.abs(weak[0]-strong[0]) <= WIDTH*.1 or\n",
    "#             np.abs(weak[0]-(strong[0]+strong[2])) <= WIDTH*.1 or\n",
    "#             np.abs(weak[0]+weak[2]-strong[0]) <= WIDTH*.1 or\n",
    "#             np.abs(weak[0]+weak[2]-(strong[0]+strong[2])) <= WIDTH*.1) and \n",
    "            \n",
    "#             #make sure it is close to size of a strong image\n",
    "#             np.abs(weak[2]-strong[2]) <= WIDTH*.1 and\n",
    "#             np.abs(weak[3]-strong[3]) <= HEIGHT*.1):\n",
    "            \n",
    "#             weak_reduced.append(weak)\n",
    "#             break\n",
    "            \n",
    "        \n",
    "# print(len(weak_reduced))\n",
    "# print(len(strong_text))\n",
    "# vis_temp = img.copy()\n",
    "\n",
    "# for text in strong_text:\n",
    "#     x, y, w, h = text\n",
    "#     cv2.rectangle(vis_temp, (x, y), (x+w-1, y+h-1), (0, 255, 0), 2)\n",
    "\n",
    "# for text in weak_reduced:\n",
    "#     x, y, w, h = text\n",
    "#     cv2.rectangle(vis_temp, (x, y), (x+w-1, y+h-1), (0, 0, 255), 2)\n",
    "    \n",
    "# plt.figure()\n",
    "# plt.title(\"hys\")\n",
    "# plt.imshow(vis_temp[:,:,::-1])"
   ]
  },
  {
   "cell_type": "code",
   "execution_count": null,
   "metadata": {},
   "outputs": [],
   "source": []
  },
  {
   "cell_type": "code",
   "execution_count": null,
   "metadata": {},
   "outputs": [],
   "source": []
  },
  {
   "cell_type": "code",
   "execution_count": 24,
   "metadata": {},
   "outputs": [],
   "source": [
    "# # Load HSV format, define lower/upper ranges, and perform color segmentation to create a binary mask\n",
    "# hsv = cv2.cvtColor(img, cv2.COLOR_BGR2HSV)\n",
    "# lower = np.array([0, 0, 218])\n",
    "# upper = np.array([157, 54, 255])\n",
    "# mask = cv2.inRange(hsv, lower, upper)\n",
    "\n",
    "# # Create horizontal kernel and dilate to connect text characters\n",
    "# kernel = cv2.getStructuringElement(cv2.MORPH_RECT, (5,3))\n",
    "# dilate = cv2.dilate(mask, kernel, iterations=7)\n",
    "\n",
    "# # Find contours and filter using aspect ratio\n",
    "# # Remove non-text contours by filling in the contour\n",
    "# contours = cv2.findContours(dilate, cv2.RETR_EXTERNAL, cv2.CHAIN_APPROX_SIMPLE)\n",
    "# contours = contours[0] if len(contours) == 2 else contours[1]\n",
    "\n",
    "# vis3 = img.copy()\n",
    "# for c in contours:\n",
    "#     x, y, w, h = cv2.boundingRect(c)\n",
    "#     cv2.rectangle(vis3, (x, y), (x+w-1, y+h-1), (0, 255, 0), 2)\n",
    "\n",
    "# plt.figure()\n",
    "# plt.imshow(vis3[:,:,::-1])\n",
    "\n",
    "# for c in contours:\n",
    "#     x,y,w,h = cv2.boundingRect(c)\n",
    "#     ar = w / float(h)\n",
    "#     if ar < 5:\n",
    "#         cv2.drawContours(dilate, [c], -1, (0,0,0), -1)\n",
    "\n",
    "\n",
    "# # Bitwise dilated image with mask, invert, then OCR\n",
    "# result = 255 - cv2.bitwise_and(dilate, mask)\n",
    "# plt.figure()\n",
    "# plt.imshow(result, \"gray\")"
   ]
  },
  {
   "cell_type": "code",
   "execution_count": 25,
   "metadata": {},
   "outputs": [],
   "source": [
    "# edges = cv2.Canny(img,100,200)\n",
    "# plt.figure()\n",
    "# plt.imshow(edges, 'gray')"
   ]
  },
  {
   "cell_type": "code",
   "execution_count": 26,
   "metadata": {},
   "outputs": [],
   "source": [
    "# # mask out the text\n",
    "# text_only = cv2.bitwise_and(img, img, mask=mask)\n",
    "# plt.figure()\n",
    "# plt.imshow(text_only[:,:,::-1])\n",
    "# # cv2.imshow(\"text only\", text_only)\n",
    "# # cv2.waitKey(0)"
   ]
  },
  {
   "cell_type": "code",
   "execution_count": null,
   "metadata": {},
   "outputs": [],
   "source": []
  },
  {
   "cell_type": "code",
   "execution_count": 27,
   "metadata": {},
   "outputs": [],
   "source": [
    "\n",
    "# large = cv2.imread('text3.png')\n",
    "# rgb = cv2.pyrDown(large)\n",
    "# small = cv2.cvtColor(rgb, cv2.COLOR_BGR2GRAY)\n",
    "\n",
    "# kernel = cv2.getStructuringElement(cv2.MORPH_ELLIPSE, (3, 3))\n",
    "# grad = cv2.morphologyEx(small, cv2.MORPH_GRADIENT, kernel)\n",
    "\n",
    "# _, bw = cv2.threshold(grad, 0.0, 255.0, cv2.THRESH_BINARY | cv2.THRESH_OTSU)\n",
    "\n",
    "# kernel = cv2.getStructuringElement(cv2.MORPH_RECT, (9, 1))\n",
    "# connected = cv2.morphologyEx(bw, cv2.MORPH_CLOSE, kernel)\n",
    "# # using RETR_EXTERNAL instead of RETR_CCOMP\n",
    "# contours, hierarchy = cv2.findContours(connected.copy(), cv2.RETR_EXTERNAL, cv2.CHAIN_APPROX_NONE)\n",
    "# #For opencv 3+ comment the previous line and uncomment the following line\n",
    "# #_, contours, hierarchy = cv2.findContours(connected.copy(), cv2.RETR_EXTERNAL, cv2.CHAIN_APPROX_NONE)\n",
    "\n",
    "# mask = np.zeros(bw.shape, dtype=np.uint8)\n",
    "\n",
    "# for idx in range(len(contours)):\n",
    "#     x, y, w, h = cv2.boundingRect(contours[idx])\n",
    "#     mask[y:y+h, x:x+w] = 0\n",
    "#     cv2.drawContours(mask, contours, idx, (255, 255, 255), -1)\n",
    "#     r = float(cv2.countNonZero(mask[y:y+h, x:x+w])) / (w * h)\n",
    "\n",
    "#     if r > 0.45 and w > 8 and h > 8:\n",
    "#         cv2.rectangle(rgb, (x, y), (x+w-1, y+h-1), (0, 255, 0), 2)\n",
    "\n",
    "# plt.figure()\n",
    "# plt.imshow(rgb)"
   ]
  }
 ],
 "metadata": {
  "kernelspec": {
   "display_name": "Python 3",
   "language": "python",
   "name": "python3"
  },
  "language_info": {
   "codemirror_mode": {
    "name": "ipython",
    "version": 3
   },
   "file_extension": ".py",
   "mimetype": "text/x-python",
   "name": "python",
   "nbconvert_exporter": "python",
   "pygments_lexer": "ipython3",
   "version": "3.7.3"
  }
 },
 "nbformat": 4,
 "nbformat_minor": 2
}
